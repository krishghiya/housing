{
 "cells": [
  {
   "cell_type": "code",
   "execution_count": 1,
   "metadata": {},
   "outputs": [],
   "source": [
    "import pandas as pd\n",
    "\n",
    "train_set = pd.read_csv('train.csv')\n",
    "test_set = pd.read_csv('test.csv')"
   ]
  },
  {
   "cell_type": "code",
   "execution_count": 2,
   "metadata": {},
   "outputs": [
    {
     "name": "stdout",
     "output_type": "stream",
     "text": [
      "<class 'pandas.core.frame.DataFrame'>\n",
      "RangeIndex: 1460 entries, 0 to 1459\n",
      "Data columns (total 81 columns):\n",
      "Id               1460 non-null int64\n",
      "MSSubClass       1460 non-null int64\n",
      "MSZoning         1460 non-null object\n",
      "LotFrontage      1201 non-null float64\n",
      "LotArea          1460 non-null int64\n",
      "Street           1460 non-null object\n",
      "Alley            91 non-null object\n",
      "LotShape         1460 non-null object\n",
      "LandContour      1460 non-null object\n",
      "Utilities        1460 non-null object\n",
      "LotConfig        1460 non-null object\n",
      "LandSlope        1460 non-null object\n",
      "Neighborhood     1460 non-null object\n",
      "Condition1       1460 non-null object\n",
      "Condition2       1460 non-null object\n",
      "BldgType         1460 non-null object\n",
      "HouseStyle       1460 non-null object\n",
      "OverallQual      1460 non-null int64\n",
      "OverallCond      1460 non-null int64\n",
      "YearBuilt        1460 non-null int64\n",
      "YearRemodAdd     1460 non-null int64\n",
      "RoofStyle        1460 non-null object\n",
      "RoofMatl         1460 non-null object\n",
      "Exterior1st      1460 non-null object\n",
      "Exterior2nd      1460 non-null object\n",
      "MasVnrType       1452 non-null object\n",
      "MasVnrArea       1452 non-null float64\n",
      "ExterQual        1460 non-null object\n",
      "ExterCond        1460 non-null object\n",
      "Foundation       1460 non-null object\n",
      "BsmtQual         1423 non-null object\n",
      "BsmtCond         1423 non-null object\n",
      "BsmtExposure     1422 non-null object\n",
      "BsmtFinType1     1423 non-null object\n",
      "BsmtFinSF1       1460 non-null int64\n",
      "BsmtFinType2     1422 non-null object\n",
      "BsmtFinSF2       1460 non-null int64\n",
      "BsmtUnfSF        1460 non-null int64\n",
      "TotalBsmtSF      1460 non-null int64\n",
      "Heating          1460 non-null object\n",
      "HeatingQC        1460 non-null object\n",
      "CentralAir       1460 non-null object\n",
      "Electrical       1459 non-null object\n",
      "1stFlrSF         1460 non-null int64\n",
      "2ndFlrSF         1460 non-null int64\n",
      "LowQualFinSF     1460 non-null int64\n",
      "GrLivArea        1460 non-null int64\n",
      "BsmtFullBath     1460 non-null int64\n",
      "BsmtHalfBath     1460 non-null int64\n",
      "FullBath         1460 non-null int64\n",
      "HalfBath         1460 non-null int64\n",
      "BedroomAbvGr     1460 non-null int64\n",
      "KitchenAbvGr     1460 non-null int64\n",
      "KitchenQual      1460 non-null object\n",
      "TotRmsAbvGrd     1460 non-null int64\n",
      "Functional       1460 non-null object\n",
      "Fireplaces       1460 non-null int64\n",
      "FireplaceQu      770 non-null object\n",
      "GarageType       1379 non-null object\n",
      "GarageYrBlt      1379 non-null float64\n",
      "GarageFinish     1379 non-null object\n",
      "GarageCars       1460 non-null int64\n",
      "GarageArea       1460 non-null int64\n",
      "GarageQual       1379 non-null object\n",
      "GarageCond       1379 non-null object\n",
      "PavedDrive       1460 non-null object\n",
      "WoodDeckSF       1460 non-null int64\n",
      "OpenPorchSF      1460 non-null int64\n",
      "EnclosedPorch    1460 non-null int64\n",
      "3SsnPorch        1460 non-null int64\n",
      "ScreenPorch      1460 non-null int64\n",
      "PoolArea         1460 non-null int64\n",
      "PoolQC           7 non-null object\n",
      "Fence            281 non-null object\n",
      "MiscFeature      54 non-null object\n",
      "MiscVal          1460 non-null int64\n",
      "MoSold           1460 non-null int64\n",
      "YrSold           1460 non-null int64\n",
      "SaleType         1460 non-null object\n",
      "SaleCondition    1460 non-null object\n",
      "SalePrice        1460 non-null int64\n",
      "dtypes: float64(3), int64(35), object(43)\n",
      "memory usage: 924.0+ KB\n"
     ]
    }
   ],
   "source": [
    "train_set.info()"
   ]
  },
  {
   "cell_type": "code",
   "execution_count": 3,
   "metadata": {},
   "outputs": [
    {
     "name": "stdout",
     "output_type": "stream",
     "text": [
      "<class 'pandas.core.frame.DataFrame'>\n",
      "RangeIndex: 1459 entries, 0 to 1458\n",
      "Data columns (total 80 columns):\n",
      "Id               1459 non-null int64\n",
      "MSSubClass       1459 non-null int64\n",
      "MSZoning         1455 non-null object\n",
      "LotFrontage      1232 non-null float64\n",
      "LotArea          1459 non-null int64\n",
      "Street           1459 non-null object\n",
      "Alley            107 non-null object\n",
      "LotShape         1459 non-null object\n",
      "LandContour      1459 non-null object\n",
      "Utilities        1457 non-null object\n",
      "LotConfig        1459 non-null object\n",
      "LandSlope        1459 non-null object\n",
      "Neighborhood     1459 non-null object\n",
      "Condition1       1459 non-null object\n",
      "Condition2       1459 non-null object\n",
      "BldgType         1459 non-null object\n",
      "HouseStyle       1459 non-null object\n",
      "OverallQual      1459 non-null int64\n",
      "OverallCond      1459 non-null int64\n",
      "YearBuilt        1459 non-null int64\n",
      "YearRemodAdd     1459 non-null int64\n",
      "RoofStyle        1459 non-null object\n",
      "RoofMatl         1459 non-null object\n",
      "Exterior1st      1458 non-null object\n",
      "Exterior2nd      1458 non-null object\n",
      "MasVnrType       1443 non-null object\n",
      "MasVnrArea       1444 non-null float64\n",
      "ExterQual        1459 non-null object\n",
      "ExterCond        1459 non-null object\n",
      "Foundation       1459 non-null object\n",
      "BsmtQual         1415 non-null object\n",
      "BsmtCond         1414 non-null object\n",
      "BsmtExposure     1415 non-null object\n",
      "BsmtFinType1     1417 non-null object\n",
      "BsmtFinSF1       1458 non-null float64\n",
      "BsmtFinType2     1417 non-null object\n",
      "BsmtFinSF2       1458 non-null float64\n",
      "BsmtUnfSF        1458 non-null float64\n",
      "TotalBsmtSF      1458 non-null float64\n",
      "Heating          1459 non-null object\n",
      "HeatingQC        1459 non-null object\n",
      "CentralAir       1459 non-null object\n",
      "Electrical       1459 non-null object\n",
      "1stFlrSF         1459 non-null int64\n",
      "2ndFlrSF         1459 non-null int64\n",
      "LowQualFinSF     1459 non-null int64\n",
      "GrLivArea        1459 non-null int64\n",
      "BsmtFullBath     1457 non-null float64\n",
      "BsmtHalfBath     1457 non-null float64\n",
      "FullBath         1459 non-null int64\n",
      "HalfBath         1459 non-null int64\n",
      "BedroomAbvGr     1459 non-null int64\n",
      "KitchenAbvGr     1459 non-null int64\n",
      "KitchenQual      1458 non-null object\n",
      "TotRmsAbvGrd     1459 non-null int64\n",
      "Functional       1457 non-null object\n",
      "Fireplaces       1459 non-null int64\n",
      "FireplaceQu      729 non-null object\n",
      "GarageType       1383 non-null object\n",
      "GarageYrBlt      1381 non-null float64\n",
      "GarageFinish     1381 non-null object\n",
      "GarageCars       1458 non-null float64\n",
      "GarageArea       1458 non-null float64\n",
      "GarageQual       1381 non-null object\n",
      "GarageCond       1381 non-null object\n",
      "PavedDrive       1459 non-null object\n",
      "WoodDeckSF       1459 non-null int64\n",
      "OpenPorchSF      1459 non-null int64\n",
      "EnclosedPorch    1459 non-null int64\n",
      "3SsnPorch        1459 non-null int64\n",
      "ScreenPorch      1459 non-null int64\n",
      "PoolArea         1459 non-null int64\n",
      "PoolQC           3 non-null object\n",
      "Fence            290 non-null object\n",
      "MiscFeature      51 non-null object\n",
      "MiscVal          1459 non-null int64\n",
      "MoSold           1459 non-null int64\n",
      "YrSold           1459 non-null int64\n",
      "SaleType         1458 non-null object\n",
      "SaleCondition    1459 non-null object\n",
      "dtypes: float64(11), int64(26), object(43)\n",
      "memory usage: 912.0+ KB\n"
     ]
    }
   ],
   "source": [
    "test_set.info()"
   ]
  },
  {
   "cell_type": "code",
   "execution_count": 4,
   "metadata": {},
   "outputs": [],
   "source": [
    "train_set = train_set.dropna(thresh=700, axis=1)\n",
    "test_set = test_set.dropna(thresh=700, axis=1)"
   ]
  },
  {
   "cell_type": "code",
   "execution_count": 5,
   "metadata": {},
   "outputs": [
    {
     "data": {
      "text/plain": [
       "SalePrice        1.000000\n",
       "OverallQual      0.790982\n",
       "GrLivArea        0.708624\n",
       "GarageCars       0.640409\n",
       "GarageArea       0.623431\n",
       "TotalBsmtSF      0.613581\n",
       "1stFlrSF         0.605852\n",
       "FullBath         0.560664\n",
       "TotRmsAbvGrd     0.533723\n",
       "YearBuilt        0.522897\n",
       "YearRemodAdd     0.507101\n",
       "GarageYrBlt      0.486362\n",
       "MasVnrArea       0.477493\n",
       "Fireplaces       0.466929\n",
       "BsmtFinSF1       0.386420\n",
       "LotFrontage      0.351799\n",
       "WoodDeckSF       0.324413\n",
       "2ndFlrSF         0.319334\n",
       "OpenPorchSF      0.315856\n",
       "HalfBath         0.284108\n",
       "LotArea          0.263843\n",
       "BsmtFullBath     0.227122\n",
       "BsmtUnfSF        0.214479\n",
       "BedroomAbvGr     0.168213\n",
       "ScreenPorch      0.111447\n",
       "PoolArea         0.092404\n",
       "MoSold           0.046432\n",
       "3SsnPorch        0.044584\n",
       "BsmtFinSF2      -0.011378\n",
       "BsmtHalfBath    -0.016844\n",
       "MiscVal         -0.021190\n",
       "Id              -0.021917\n",
       "LowQualFinSF    -0.025606\n",
       "YrSold          -0.028923\n",
       "OverallCond     -0.077856\n",
       "MSSubClass      -0.084284\n",
       "EnclosedPorch   -0.128578\n",
       "KitchenAbvGr    -0.135907\n",
       "Name: SalePrice, dtype: float64"
      ]
     },
     "execution_count": 5,
     "metadata": {},
     "output_type": "execute_result"
    }
   ],
   "source": [
    "corr_matrix = train_set.corr()\n",
    "corr_matrix['SalePrice'].sort_values(ascending=False)"
   ]
  },
  {
   "cell_type": "code",
   "execution_count": 6,
   "metadata": {},
   "outputs": [
    {
     "data": {
      "text/plain": [
       "array([[<matplotlib.axes._subplots.AxesSubplot object at 0x00000219ADB77080>,\n",
       "        <matplotlib.axes._subplots.AxesSubplot object at 0x00000219AE72ECF8>,\n",
       "        <matplotlib.axes._subplots.AxesSubplot object at 0x00000219AE7642B0>,\n",
       "        <matplotlib.axes._subplots.AxesSubplot object at 0x00000219AE78B828>],\n",
       "       [<matplotlib.axes._subplots.AxesSubplot object at 0x00000219AE7B3DA0>,\n",
       "        <matplotlib.axes._subplots.AxesSubplot object at 0x00000219AE7E3358>,\n",
       "        <matplotlib.axes._subplots.AxesSubplot object at 0x00000219AE80B8D0>,\n",
       "        <matplotlib.axes._subplots.AxesSubplot object at 0x00000219AE834E80>],\n",
       "       [<matplotlib.axes._subplots.AxesSubplot object at 0x00000219AE834EB8>,\n",
       "        <matplotlib.axes._subplots.AxesSubplot object at 0x00000219AE889978>,\n",
       "        <matplotlib.axes._subplots.AxesSubplot object at 0x00000219AE8B1EF0>,\n",
       "        <matplotlib.axes._subplots.AxesSubplot object at 0x00000219AE8E04A8>],\n",
       "       [<matplotlib.axes._subplots.AxesSubplot object at 0x00000219AE907A20>,\n",
       "        <matplotlib.axes._subplots.AxesSubplot object at 0x00000219AE931F98>,\n",
       "        <matplotlib.axes._subplots.AxesSubplot object at 0x00000219AE961550>,\n",
       "        <matplotlib.axes._subplots.AxesSubplot object at 0x00000219AE98AAC8>]],\n",
       "      dtype=object)"
      ]
     },
     "execution_count": 6,
     "metadata": {},
     "output_type": "execute_result"
    },
    {
     "data": {
      "image/png": "[encoded data removed]",
      "text/plain": [
       "<Figure size 864x576 with 16 Axes>"
      ]
     },
     "metadata": {
      "needs_background": "light"
     },
     "output_type": "display_data"
    }
   ],
   "source": [
    "%matplotlib inline\n",
    "\n",
    "from pandas.plotting import scatter_matrix\n",
    "\n",
    "attributes = ['SalePrice', 'OverallQual', 'GrLivArea', 'GarageCars']\n",
    "scatter_matrix(train_set[attributes], figsize=(12,8))"
   ]
  },
  {
   "cell_type": "code",
   "execution_count": 7,
   "metadata": {},
   "outputs": [],
   "source": [
    "test_Id = test_set.Id\n",
    "\n",
    "train_set = train_set.drop('Id', axis=1)\n",
    "test_set = test_set.drop('Id', axis=1)"
   ]
  },
  {
   "cell_type": "code",
   "execution_count": 9,
   "metadata": {},
   "outputs": [],
   "source": [
    "y_train = train_set.SalePrice"
   ]
  },
  {
   "cell_type": "code",
   "execution_count": 10,
   "metadata": {},
   "outputs": [],
   "source": [
    "train_set = train_set.drop('SalePrice', axis=1)"
   ]
  },
  {
   "cell_type": "code",
   "execution_count": 11,
   "metadata": {},
   "outputs": [
    {
     "data": {
      "text/plain": [
       "((1460, 75), (1459, 75))"
      ]
     },
     "execution_count": 11,
     "metadata": {},
     "output_type": "execute_result"
    }
   ],
   "source": [
    "train_set.shape, test_set.shape"
   ]
  },
  {
   "cell_type": "code",
   "execution_count": 8,
   "metadata": {},
   "outputs": [],
   "source": [
    "from sklearn.pipeline import Pipeline\n",
    "from sklearn.preprocessing import OneHotEncoder\n",
    "from sklearn.impute import SimpleImputer\n",
    "from sklearn.preprocessing import StandardScaler\n",
    "\n",
    "num_pipeline = Pipeline([\n",
    "    ('imputer', SimpleImputer(strategy='median')),\n",
    "    ('scaler', StandardScaler()),\n",
    "])\n",
    "\n",
    "cat_pipeline = Pipeline([\n",
    "    ('imputer', SimpleImputer(strategy='most_frequent')),\n",
    "    ('onehotencoder', OneHotEncoder()),\n",
    "])"
   ]
  },
  {
   "cell_type": "code",
   "execution_count": null,
   "metadata": {},
   "outputs": [],
   "source": [
    "from sklearn.compose import ColumnTransformer\n",
    "\n",
    "num_values = train_set.loc[:, train_set.dtypes != 'object']\n",
    "cat_values = train_set.loc[:, train_set.dtypes == 'object']\n",
    "\n",
    "full_pipeline = ColumnTransformer([\n",
    "        (\"num\", num_pipeline, num_values),\n",
    "        (\"cat\", cat_pipeline, cat_values),\n",
    "    ])\n",
    "\n",
    "train_set = full_pipeline.fit_transform(train_set)"
   ]
  },
  {
   "cell_type": "code",
   "execution_count": null,
   "metadata": {},
   "outputs": [],
   "source": [
    "num_values = test_set.loc[:, test_set.dtypes != 'object']\n",
    "cat_values = test_set.loc[:, test_set.dtypes == 'object']"
   ]
  },
  {
   "cell_type": "raw",
   "metadata": {},
   "source": [
    "num_train = train_set.loc[:, train_set.dtypes != 'object']\n",
    "cat_train = train_set.loc[:, train_set.dtypes == 'object']\n",
    "\n",
    "num_test = test_set.loc[:, test_set.dtypes != 'object']\n",
    "cat_test = test_set.loc[:, test_set.dtypes == 'object']"
   ]
  },
  {
   "cell_type": "raw",
   "metadata": {},
   "source": [
    "from sklearn.impute import SimpleImputer\n",
    "\n",
    "imputer = SimpleImputer(strategy='median')\n",
    "\n",
    "num_train = pd.DataFrame(imputer.fit_transform(num_train),\n",
    "                         columns=num_train.columns)\n",
    "num_test = pd.DataFrame(imputer.fit_transform(num_test),\n",
    "                         columns=num_train.columns)"
   ]
  },
  {
   "cell_type": "raw",
   "metadata": {},
   "source": [
    "from sklearn.preprocessing import StandardScaler\n",
    "\n",
    "scaler = StandardScaler()\n",
    "\n",
    "num_train = pd.DataFrame(scaler.fit_transform(num_train),\n",
    "                         columns=num_train.columns)\n",
    "num_test = pd.DataFrame(scaler.fit_transform(num_test),\n",
    "                         columns=num_train.columns)"
   ]
  },
  {
   "cell_type": "raw",
   "metadata": {},
   "source": [
    "imputer = SimpleImputer(strategy='most_frequent')\n",
    "\n",
    "cat_train = pd.DataFrame(imputer.fit_transform(cat_train),\n",
    "                         columns = cat_train.columns)\n",
    "cat_test = pd.DataFrame(imputer.fit_transform(cat_test),\n",
    "                        columns = cat_train.columns)"
   ]
  },
  {
   "cell_type": "raw",
   "metadata": {},
   "source": [
    "cat_train = pd.get_dummies(cat_train)\n",
    "cat_test = pd.get_dummies(cat_test)"
   ]
  },
  {
   "cell_type": "code",
   "execution_count": 17,
   "metadata": {},
   "outputs": [],
   "source": [
    "train_set = pd.concat([num_train, cat_train], axis=1)\n",
    "test_set = pd.concat([num_test, cat_test], axis=1)"
   ]
  },
  {
   "cell_type": "code",
   "execution_count": 18,
   "metadata": {},
   "outputs": [
    {
     "data": {
      "text/plain": [
       "['Utilities_NoSeWa',\n",
       " 'Condition2_RRAe',\n",
       " 'Condition2_RRAn',\n",
       " 'Condition2_RRNn',\n",
       " 'HouseStyle_2.5Fin',\n",
       " 'RoofMatl_ClyTile',\n",
       " 'RoofMatl_Membran',\n",
       " 'RoofMatl_Metal',\n",
       " 'RoofMatl_Roll',\n",
       " 'Exterior1st_ImStucc',\n",
       " 'Exterior1st_Stone',\n",
       " 'Exterior2nd_Other',\n",
       " 'Heating_Floor',\n",
       " 'Heating_OthW',\n",
       " 'Electrical_Mix',\n",
       " 'GarageQual_Ex']"
      ]
     },
     "execution_count": 18,
     "metadata": {},
     "output_type": "execute_result"
    }
   ],
   "source": [
    "[x for x in train_set.columns if x not in test_set.columns]"
   ]
  },
  {
   "cell_type": "code",
   "execution_count": 19,
   "metadata": {},
   "outputs": [],
   "source": [
    "train_set = train_set[test_set.columns]"
   ]
  },
  {
   "cell_type": "code",
   "execution_count": 20,
   "metadata": {},
   "outputs": [
    {
     "data": {
      "text/plain": [
       "((1460, 259), (1459, 259))"
      ]
     },
     "execution_count": 20,
     "metadata": {},
     "output_type": "execute_result"
    }
   ],
   "source": [
    "train_set.shape, test_set.shape"
   ]
  },
  {
   "cell_type": "code",
   "execution_count": 21,
   "metadata": {},
   "outputs": [
    {
     "data": {
      "text/plain": [
       "XGBRegressor(base_score=0.5, booster='gbtree', colsample_bylevel=1,\n",
       "       colsample_bytree=0.2, gamma=0.6, learning_rate=0.01,\n",
       "       max_delta_step=0, max_depth=4, min_child_weight=1, missing=None,\n",
       "       n_estimators=6000, n_jobs=1, nthread=-1, objective='reg:linear',\n",
       "       random_state=0, reg_alpha=6e-05, reg_lambda=1, scale_pos_weight=1,\n",
       "       seed=27, silent=True, subsample=0.7)"
      ]
     },
     "execution_count": 21,
     "metadata": {},
     "output_type": "execute_result"
    }
   ],
   "source": [
    "from xgboost import XGBRegressor\n",
    "from sklearn.ensemble import RandomForestRegressor\n",
    "\n",
    "reg = XGBRegressor(learning_rate=0.01,\n",
    "                         n_estimators=6000,\n",
    "                         max_depth=4, min_child_weight=1,\n",
    "                         gamma=0.6, subsample=0.7,\n",
    "                         colsample_bytree=0.2,\n",
    "                         objective='reg:linear', nthread=-1,\n",
    "                         scale_pos_weight=1, seed=27,\n",
    "                         reg_alpha=0.00006\n",
    "                   )\n",
    "\n",
    "reg.fit(train_set, y_train)"
   ]
  },
  {
   "cell_type": "raw",
   "metadata": {},
   "source": [
    "import numpy as np\n",
    "from sklearn.model_selection import cross_val_score\n",
    "\n",
    "scores = cross_val_score(reg, train_set, y_train,\n",
    "                        scoring=\"neg_mean_squared_error\", cv=10)\n",
    "rmse_scores = np.sqrt(-scores)\n",
    "rmse_scores.mean()"
   ]
  },
  {
   "cell_type": "raw",
   "metadata": {},
   "source": [
    "from sklearn.model_selection import RandomizedSearchCV\n",
    "\n",
    "param_grid = {\n",
    "    'n_estimators': [1000],\n",
    "    'learning_rate': [0.1],\n",
    "    'max_depth': [5],\n",
    "}\n",
    "\n",
    "rnd_search = RandomizedSearchCV(reg, param_distributions=param_grid,\n",
    "                               n_iter=50, cv=5, scoring='neg_mean_squared_error',\n",
    "                                verbose=2, n_jobs=4, random_state=42)\n",
    "\n",
    "rnd_search.fit(train_set, y_train)"
   ]
  },
  {
   "cell_type": "raw",
   "metadata": {},
   "source": [
    "rnd_search.best_params_, rnd_search.best_score_"
   ]
  },
  {
   "cell_type": "raw",
   "metadata": {},
   "source": [
    "reg = rnd_search.best_estimator_"
   ]
  },
  {
   "cell_type": "code",
   "execution_count": 22,
   "metadata": {},
   "outputs": [
    {
     "data": {
      "text/plain": [
       "[(0.050924186, 'LotArea'),\n",
       " (0.048109476, 'BsmtUnfSF'),\n",
       " (0.045385562, 'GrLivArea'),\n",
       " (0.041533172, 'TotalBsmtSF'),\n",
       " (0.040897593, '1stFlrSF'),\n",
       " (0.036552306, 'LotFrontage'),\n",
       " (0.03609832, 'BsmtFinSF1'),\n",
       " (0.035903756, 'GarageArea'),\n",
       " (0.03132499, 'YearBuilt'),\n",
       " (0.028536221, 'MasVnrArea'),\n",
       " (0.025993904, 'GarageYrBlt'),\n",
       " (0.025189701, 'YearRemodAdd'),\n",
       " (0.024177963, 'OpenPorchSF'),\n",
       " (0.02312731, 'WoodDeckSF'),\n",
       " (0.022400934, '2ndFlrSF'),\n",
       " (0.020520138, 'MoSold'),\n",
       " (0.017484922, 'OverallQual'),\n",
       " (0.016330501, 'OverallCond'),\n",
       " (0.01438485, 'MSSubClass'),\n",
       " (0.013567676, 'TotRmsAbvGrd'),\n",
       " (0.011660938, 'YrSold'),\n",
       " (0.011284779, 'EnclosedPorch'),\n",
       " (0.009365069, 'BedroomAbvGr'),\n",
       " (0.008210649, 'ScreenPorch'),\n",
       " (0.008158765, 'GarageCars'),\n",
       " (0.0075620986, 'Fireplaces'),\n",
       " (0.0072248527, 'BsmtFullBath'),\n",
       " (0.0068097804, 'BsmtFinSF2'),\n",
       " (0.005201375, 'FullBath'),\n",
       " (0.0043452885, 'Neighborhood_StoneBr'),\n",
       " (0.004267462, 'SaleCondition_Normal'),\n",
       " (0.004137752, 'BsmtExposure_Gd'),\n",
       " (0.004008042, 'LotShape_Reg'),\n",
       " (0.003930216, 'SaleCondition_Family'),\n",
       " (0.003826448, 'MasVnrType_BrkFace'),\n",
       " (0.0037486218, 'KitchenQual_Gd'),\n",
       " (0.0037097088, 'HalfBath'),\n",
       " (0.0036837668, 'LotShape_IR1'),\n",
       " (0.0036707958, 'Condition1_Norm'),\n",
       " (0.0035410856, 'ExterQual_Gd'),\n",
       " (0.0034762307, 'SaleCondition_Abnorml'),\n",
       " (0.0034373177, 'Neighborhood_Edwards'),\n",
       " (0.0034113757, 'ExterQual_TA'),\n",
       " (0.0033594915, 'LotConfig_Inside'),\n",
       " (0.0032557235, 'GarageFinish_RFn'),\n",
       " (0.0032297815, 'SaleCondition_Partial'),\n",
       " (0.0031908683, 'BsmtFinType1_GLQ'),\n",
       " (0.0031389843, 'BsmtExposure_No'),\n",
       " (0.0030481874, '3SsnPorch'),\n",
       " (0.0030092744, 'RoofStyle_Gable'),\n",
       " (0.0030092744, 'KitchenQual_TA'),\n",
       " (0.0029184772, 'Functional_Typ'),\n",
       " (0.0029055062, 'LotConfig_Corner'),\n",
       " (0.0028536222, 'SaleType_New'),\n",
       " (0.0028406512, 'BsmtQual_Gd'),\n",
       " (0.0028147092, 'BsmtFinType1_ALQ'),\n",
       " (0.0028017382, 'FireplaceQu_Gd'),\n",
       " (0.0028017382, 'Exterior1st_MetalSd'),\n",
       " (0.002775796, 'Exterior1st_VinylSd'),\n",
       " (0.002762825, 'BsmtExposure_Av'),\n",
       " (0.002723912, 'GarageFinish_Fin'),\n",
       " (0.002710941, 'Neighborhood_NAmes'),\n",
       " (0.002710941, 'Neighborhood_Crawfor'),\n",
       " (0.002710941, 'Exterior2nd_VinylSd'),\n",
       " (0.002710941, 'BsmtFinType1_Unf'),\n",
       " (0.00269797, 'KitchenQual_Ex'),\n",
       " (0.002684999, 'SaleType_WD'),\n",
       " (0.002684999, 'RoofStyle_Hip'),\n",
       " (0.002672028, 'BsmtQual_Ex'),\n",
       " (0.002646086, 'LotConfig_CulDSac'),\n",
       " (0.002607173, 'MSZoning_C (all)'),\n",
       " (0.002594202, 'LandContour_HLS'),\n",
       " (0.0025423178, 'HeatingQC_Ex'),\n",
       " (0.0025423178, 'FireplaceQu_TA'),\n",
       " (0.0025293468, 'Neighborhood_NoRidge'),\n",
       " (0.0025293468, 'Exterior1st_BrkFace'),\n",
       " (0.0024774629, 'Neighborhood_NridgHt'),\n",
       " (0.0024774629, 'GarageType_Attchd'),\n",
       " (0.0024515209, 'Neighborhood_BrkSide'),\n",
       " (0.00243855, 'Neighborhood_Somerst'),\n",
       " (0.00243855, 'HouseStyle_1Story'),\n",
       " (0.002412608, 'Exterior2nd_MetalSd'),\n",
       " (0.002373695, 'LotConfig_FR2'),\n",
       " (0.0023218107, 'LandContour_Lvl'),\n",
       " (0.0022958687, 'MSZoning_RL'),\n",
       " (0.0022958687, 'HeatingQC_Gd'),\n",
       " (0.0022310137, 'BsmtHalfBath'),\n",
       " (0.0021921007, 'LotConfig_FR3'),\n",
       " (0.0021921007, 'HouseStyle_2Story'),\n",
       " (0.0021791297, 'MasVnrType_None'),\n",
       " (0.0021791297, 'Exterior1st_Wd Sdng'),\n",
       " (0.0021402165, 'Exterior1st_HdBoard'),\n",
       " (0.0021402165, 'Condition1_RRAe'),\n",
       " (0.0021142745, 'GarageFinish_Unf'),\n",
       " (0.0020883325, 'Neighborhood_CollgCr'),\n",
       " (0.0020883325, 'MSZoning_FV'),\n",
       " (0.0020883325, 'BsmtQual_TA'),\n",
       " (0.0020753616, 'ExterCond_Gd'),\n",
       " (0.0020234776, 'Condition1_Artery'),\n",
       " (0.0020105066, 'HeatingQC_TA'),\n",
       " (0.0019975356, 'MiscVal'),\n",
       " (0.0019715936, 'Exterior1st_Plywood'),\n",
       " (0.0019197095, 'FireplaceQu_Fa'),\n",
       " (0.0018418834, 'Foundation_CBlock'),\n",
       " (0.0018289124, 'MasVnrType_Stone'),\n",
       " (0.0017899993, 'Condition1_PosN'),\n",
       " (0.0017770283, 'CentralAir_N'),\n",
       " (0.0017510863, 'Exterior2nd_HdBoard'),\n",
       " (0.0017251443, 'BldgType_1Fam'),\n",
       " (0.0016862312, 'BsmtFinType2_BLQ'),\n",
       " (0.0016862312, 'BsmtFinType1_BLQ'),\n",
       " (0.0016732602, 'LandSlope_Gtl'),\n",
       " (0.0016732602, 'ExterQual_Ex'),\n",
       " (0.0016602892, 'GarageType_Detchd'),\n",
       " (0.0016602892, 'ExterCond_TA'),\n",
       " (0.0016473182, 'Neighborhood_Mitchel'),\n",
       " (0.0016343473, 'HouseStyle_1.5Fin'),\n",
       " (0.0016213763, 'Exterior2nd_Wd Sdng'),\n",
       " (0.0016213763, 'BsmtFinType1_Rec'),\n",
       " (0.0016084053, 'MSZoning_RM'),\n",
       " (0.0015954342, 'Neighborhood_SawyerW'),\n",
       " (0.0015824632, 'Foundation_BrkTil'),\n",
       " (0.0015565212, 'Neighborhood_Timber'),\n",
       " (0.0015565212, 'Foundation_PConc'),\n",
       " (0.0015565212, 'BsmtExposure_Mn'),\n",
       " (0.0015435502, 'KitchenAbvGr'),\n",
       " (0.0015176082, 'PoolArea'),\n",
       " (0.0014786951, 'Neighborhood_OldTown'),\n",
       " (0.0014657241, 'BsmtCond_Fa'),\n",
       " (0.0014527531, 'GarageType_BuiltIn'),\n",
       " (0.0014397821, 'BsmtCond_TA'),\n",
       " (0.0014268111, 'CentralAir_Y'),\n",
       " (0.0014268111, 'BsmtFinType1_LwQ'),\n",
       " (0.0014008691, 'Exterior2nd_Plywood'),\n",
       " (0.001387898, 'Neighborhood_Sawyer'),\n",
       " (0.001348985, 'LotShape_IR2'),\n",
       " (0.001348985, 'LandContour_Low'),\n",
       " (0.001348985, 'LandContour_Bnk'),\n",
       " (0.001323043, 'GarageType_CarPort'),\n",
       " (0.001310072, 'LandSlope_Mod'),\n",
       " (0.001310072, 'BsmtFinType2_Unf'),\n",
       " (0.001297101, 'LowQualFinSF'),\n",
       " (0.0012711589, 'PavedDrive_P'),\n",
       " (0.0012452169, 'Neighborhood_NWAmes'),\n",
       " (0.0012322459, 'Neighborhood_ClearCr'),\n",
       " (0.0012322459, 'Electrical_SBrkr'),\n",
       " (0.001219275, 'Electrical_FuseA'),\n",
       " (0.001206304, 'MSZoning_RH'),\n",
       " (0.001206304, 'GarageQual_Fa'),\n",
       " (0.001206304, 'Exterior1st_CemntBd'),\n",
       " (0.001206304, 'BsmtCond_Gd'),\n",
       " (0.001193333, 'HouseStyle_SLvl'),\n",
       " (0.0011414489, 'Exterior2nd_AsbShng'),\n",
       " (0.0011155069, 'Neighborhood_Blmngtn'),\n",
       " (0.0011155069, 'Exterior1st_AsbShng'),\n",
       " (0.0011025359, 'Neighborhood_Gilbert'),\n",
       " (0.0010765938, 'FireplaceQu_Po'),\n",
       " (0.0010765938, 'ExterCond_Fa'),\n",
       " (0.0010636228, 'Functional_Mod'),\n",
       " (0.0010636228, 'BldgType_TwnhsE'),\n",
       " (0.0010376808, 'Exterior2nd_CmentBd'),\n",
       " (0.0010247098, 'PavedDrive_Y'),\n",
       " (0.0009987678, 'BsmtQual_Fa'),\n",
       " (0.0009857968, 'RoofMatl_WdShngl'),\n",
       " (0.0009857968, 'Functional_Maj2'),\n",
       " (0.0009857968, 'Exterior2nd_Stucco'),\n",
       " (0.0009857968, 'BldgType_Duplex'),\n",
       " (0.0009468837, 'SaleType_COD'),\n",
       " (0.0009468837, 'Neighborhood_Veenker'),\n",
       " (0.0009339127, 'Neighborhood_SWISU'),\n",
       " (0.0009339127, 'GarageCond_Fa'),\n",
       " (0.00088202866, 'RoofMatl_CompShg'),\n",
       " (0.00085608667, 'GarageType_Basment'),\n",
       " (0.0008431156, 'PavedDrive_N'),\n",
       " (0.0008431156, 'MasVnrType_BrkCmn'),\n",
       " (0.0008301446, 'GarageQual_TA'),\n",
       " (0.0008301446, 'Exterior2nd_Wd Shng'),\n",
       " (0.0007912316, 'Condition1_Feedr'),\n",
       " (0.0007652896, 'SaleType_CWD'),\n",
       " (0.0007652896, 'BldgType_Twnhs'),\n",
       " (0.00073934754, 'Neighborhood_IDOTRR'),\n",
       " (0.00073934754, 'HeatingQC_Fa'),\n",
       " (0.00072637654, 'SaleType_ConLw'),\n",
       " (0.00070043455, 'Foundation_Wood'),\n",
       " (0.0006744925, 'SaleType_ConLI'),\n",
       " (0.0006485505, 'BsmtFinType2_LwQ'),\n",
       " (0.00063557946, 'GarageCond_TA'),\n",
       " (0.00062260847, 'SaleCondition_Alloca'),\n",
       " (0.0006096375, 'GarageQual_Gd'),\n",
       " (0.0006096375, 'Condition1_PosA'),\n",
       " (0.0005836954, 'Functional_Maj1'),\n",
       " (0.00055775343, 'Exterior1st_Stucco'),\n",
       " (0.00054478244, 'KitchenQual_Fa'),\n",
       " (0.0005318114, 'RoofStyle_Gambrel'),\n",
       " (0.0005318114, 'Functional_Min1'),\n",
       " (0.0005318114, 'Exterior2nd_ImStucc'),\n",
       " (0.0005188404, 'Neighborhood_MeadowV'),\n",
       " (0.0005058694, 'FireplaceQu_Ex'),\n",
       " (0.0005058694, 'Electrical_FuseF'),\n",
       " (0.00047992737, 'RoofStyle_Flat'),\n",
       " (0.00046695635, 'LandSlope_Sev'),\n",
       " (0.00046695635, 'Condition2_Norm'),\n",
       " (0.00045398535, 'RoofMatl_Tar&Grv'),\n",
       " (0.00045398535, 'Exterior2nd_BrkFace'),\n",
       " (0.00042804333, 'BsmtFinType2_ALQ'),\n",
       " (0.0003891303, 'BsmtFinType2_Rec'),\n",
       " (0.00036318827, 'Exterior1st_WdShing'),\n",
       " (0.00036318827, 'Condition2_Feedr'),\n",
       " (0.00035021728, 'HouseStyle_1.5Unf'),\n",
       " (0.00032427526, 'SaleType_ConLD'),\n",
       " (0.00032427526, 'Condition2_PosN'),\n",
       " (0.00031130423, 'Heating_GasA'),\n",
       " (0.00031130423, 'Condition1_RRAn'),\n",
       " (0.00029833324, 'SaleType_Oth'),\n",
       " (0.0002853622, 'Functional_Min2'),\n",
       " (0.00027239122, 'BldgType_2fmCon'),\n",
       " (0.00023347817, 'LotShape_IR3'),\n",
       " (0.00020753616, 'HouseStyle_SFoyer'),\n",
       " (0.00019456515, 'HouseStyle_2.5Unf'),\n",
       " (0.00019456515, 'ExterQual_Fa'),\n",
       " (0.00016862313, 'Neighborhood_BrDale'),\n",
       " (0.00015565212, 'Heating_Grav'),\n",
       " (0.00015565212, 'Heating_GasW'),\n",
       " (0.00011673909, 'BsmtFinType2_GLQ'),\n",
       " (0.00010376808, 'Street_Grvl'),\n",
       " (0.00010376808, 'Foundation_Slab'),\n",
       " (9.079707e-05, 'Street_Pave'),\n",
       " (9.079707e-05, 'Exterior1st_BrkComm'),\n",
       " (7.782606e-05, 'GarageCond_Gd'),\n",
       " (7.782606e-05, 'Foundation_Stone'),\n",
       " (7.782606e-05, 'Exterior2nd_Stone'),\n",
       " (6.485505e-05, 'Neighborhood_NPkVill'),\n",
       " (6.485505e-05, 'Exterior2nd_Brk Cmn'),\n",
       " (6.485505e-05, 'Exterior2nd_AsphShn'),\n",
       " (5.188404e-05, 'GarageType_2Types'),\n",
       " (3.891303e-05, 'Heating_Wall'),\n",
       " (3.891303e-05, 'GarageQual_Po'),\n",
       " (3.891303e-05, 'Functional_Sev'),\n",
       " (3.891303e-05, 'ExterCond_Ex'),\n",
       " (3.891303e-05, 'Condition1_RRNn'),\n",
       " (2.594202e-05, 'Utilities_AllPub'),\n",
       " (2.594202e-05, 'Exterior1st_CBlock'),\n",
       " (2.594202e-05, 'Condition2_Artery'),\n",
       " (2.594202e-05, 'BsmtCond_Po'),\n",
       " (1.297101e-05, 'SaleType_Con'),\n",
       " (1.297101e-05, 'SaleCondition_AdjLand'),\n",
       " (1.297101e-05, 'RoofStyle_Shed'),\n",
       " (1.297101e-05, 'RoofStyle_Mansard'),\n",
       " (1.297101e-05, 'GarageCond_Po'),\n",
       " (1.297101e-05, 'Exterior1st_AsphShn'),\n",
       " (1.297101e-05, 'Electrical_FuseP'),\n",
       " (0.0, 'RoofMatl_WdShake'),\n",
       " (0.0, 'Neighborhood_Blueste'),\n",
       " (0.0, 'HeatingQC_Po'),\n",
       " (0.0, 'GarageCond_Ex'),\n",
       " (0.0, 'Exterior2nd_CBlock'),\n",
       " (0.0, 'ExterCond_Po'),\n",
       " (0.0, 'Condition2_PosA'),\n",
       " (0.0, 'Condition1_RRNe')]"
      ]
     },
     "execution_count": 22,
     "metadata": {},
     "output_type": "execute_result"
    }
   ],
   "source": [
    "feature_importances = reg.feature_importances_\n",
    "\n",
    "sorted(zip(feature_importances, train_set.columns), reverse=True)"
   ]
  },
  {
   "cell_type": "code",
   "execution_count": 23,
   "metadata": {},
   "outputs": [],
   "source": [
    "from sklearn.base import BaseEstimator, TransformerMixin\n",
    "\n",
    "def indices_of_top_k(arr, k):\n",
    "    return np.sort(np.argpartition(np.array(arr), -k)[-k:])\n",
    "\n",
    "class TopFeatureSelector(BaseEstimator, TransformerMixin):\n",
    "    def __init__(self, feature_importances, k):\n",
    "        self.feature_importances = feature_importances\n",
    "        self.k = k\n",
    "    def fit(self, X, y=None):\n",
    "        self.feature_indices_ = indices_of_top_k(self.feature_importances, self.k)\n",
    "        return self\n",
    "    def transform(self, X):\n",
    "        return X.loc[:, self.feature_indices_]"
   ]
  },
  {
   "cell_type": "code",
   "execution_count": 24,
   "metadata": {},
   "outputs": [],
   "source": [
    "k=5"
   ]
  },
  {
   "cell_type": "code",
   "execution_count": 25,
   "metadata": {},
   "outputs": [
    {
     "data": {
      "text/plain": [
       "[(0.050924186, 'GrLivArea'),\n",
       " (0.036552306, 'OverallQual'),\n",
       " (0.017484922, 'GarageCars'),\n",
       " (0.01438485, 'SalePrice')]"
      ]
     },
     "execution_count": 25,
     "metadata": {},
     "output_type": "execute_result"
    }
   ],
   "source": [
    "import numpy as np\n",
    "\n",
    "top_k_feature_indices = indices_of_top_k(feature_importances, k)\n",
    "sorted(zip(feature_importances, attributes), reverse=True)[:k]"
   ]
  },
  {
   "cell_type": "code",
   "execution_count": 26,
   "metadata": {},
   "outputs": [
    {
     "ename": "KeyError",
     "evalue": "'None of [[ 2 10 11 12 15]] are in the [columns]'",
     "output_type": "error",
     "traceback": [
      "\u001b[1;31m---------------------------------------------------------------------------\u001b[0m",
      "\u001b[1;31mKeyError\u001b[0m                                  Traceback (most recent call last)",
      "\u001b[1;32m<ipython-input-26-34a9feed5c89>\u001b[0m in \u001b[0;36m<module>\u001b[1;34m\u001b[0m\n\u001b[0;32m      5\u001b[0m ])\n\u001b[0;32m      6\u001b[0m \u001b[1;33m\u001b[0m\u001b[0m\n\u001b[1;32m----> 7\u001b[1;33m \u001b[0mtrain_set\u001b[0m \u001b[1;33m=\u001b[0m \u001b[0mfeature_pipeline\u001b[0m\u001b[1;33m.\u001b[0m\u001b[0mfit_transform\u001b[0m\u001b[1;33m(\u001b[0m\u001b[0mtrain_set\u001b[0m\u001b[1;33m)\u001b[0m\u001b[1;33m\u001b[0m\u001b[1;33m\u001b[0m\u001b[0m\n\u001b[0m",
      "\u001b[1;32m~\\Anaconda3\\lib\\site-packages\\sklearn\\pipeline.py\u001b[0m in \u001b[0;36mfit_transform\u001b[1;34m(self, X, y, **fit_params)\u001b[0m\n\u001b[0;32m    298\u001b[0m         \u001b[0mXt\u001b[0m\u001b[1;33m,\u001b[0m \u001b[0mfit_params\u001b[0m \u001b[1;33m=\u001b[0m \u001b[0mself\u001b[0m\u001b[1;33m.\u001b[0m\u001b[0m_fit\u001b[0m\u001b[1;33m(\u001b[0m\u001b[0mX\u001b[0m\u001b[1;33m,\u001b[0m \u001b[0my\u001b[0m\u001b[1;33m,\u001b[0m \u001b[1;33m**\u001b[0m\u001b[0mfit_params\u001b[0m\u001b[1;33m)\u001b[0m\u001b[1;33m\u001b[0m\u001b[1;33m\u001b[0m\u001b[0m\n\u001b[0;32m    299\u001b[0m         \u001b[1;32mif\u001b[0m \u001b[0mhasattr\u001b[0m\u001b[1;33m(\u001b[0m\u001b[0mlast_step\u001b[0m\u001b[1;33m,\u001b[0m \u001b[1;34m'fit_transform'\u001b[0m\u001b[1;33m)\u001b[0m\u001b[1;33m:\u001b[0m\u001b[1;33m\u001b[0m\u001b[1;33m\u001b[0m\u001b[0m\n\u001b[1;32m--> 300\u001b[1;33m             \u001b[1;32mreturn\u001b[0m \u001b[0mlast_step\u001b[0m\u001b[1;33m.\u001b[0m\u001b[0mfit_transform\u001b[0m\u001b[1;33m(\u001b[0m\u001b[0mXt\u001b[0m\u001b[1;33m,\u001b[0m \u001b[0my\u001b[0m\u001b[1;33m,\u001b[0m \u001b[1;33m**\u001b[0m\u001b[0mfit_params\u001b[0m\u001b[1;33m)\u001b[0m\u001b[1;33m\u001b[0m\u001b[1;33m\u001b[0m\u001b[0m\n\u001b[0m\u001b[0;32m    301\u001b[0m         \u001b[1;32melif\u001b[0m \u001b[0mlast_step\u001b[0m \u001b[1;32mis\u001b[0m \u001b[1;32mNone\u001b[0m\u001b[1;33m:\u001b[0m\u001b[1;33m\u001b[0m\u001b[1;33m\u001b[0m\u001b[0m\n\u001b[0;32m    302\u001b[0m             \u001b[1;32mreturn\u001b[0m \u001b[0mXt\u001b[0m\u001b[1;33m\u001b[0m\u001b[1;33m\u001b[0m\u001b[0m\n",
      "\u001b[1;32m~\\Anaconda3\\lib\\site-packages\\sklearn\\base.py\u001b[0m in \u001b[0;36mfit_transform\u001b[1;34m(self, X, y, **fit_params)\u001b[0m\n\u001b[0;32m    460\u001b[0m         \u001b[1;32mif\u001b[0m \u001b[0my\u001b[0m \u001b[1;32mis\u001b[0m \u001b[1;32mNone\u001b[0m\u001b[1;33m:\u001b[0m\u001b[1;33m\u001b[0m\u001b[1;33m\u001b[0m\u001b[0m\n\u001b[0;32m    461\u001b[0m             \u001b[1;31m# fit method of arity 1 (unsupervised transformation)\u001b[0m\u001b[1;33m\u001b[0m\u001b[1;33m\u001b[0m\u001b[1;33m\u001b[0m\u001b[0m\n\u001b[1;32m--> 462\u001b[1;33m             \u001b[1;32mreturn\u001b[0m \u001b[0mself\u001b[0m\u001b[1;33m.\u001b[0m\u001b[0mfit\u001b[0m\u001b[1;33m(\u001b[0m\u001b[0mX\u001b[0m\u001b[1;33m,\u001b[0m \u001b[1;33m**\u001b[0m\u001b[0mfit_params\u001b[0m\u001b[1;33m)\u001b[0m\u001b[1;33m.\u001b[0m\u001b[0mtransform\u001b[0m\u001b[1;33m(\u001b[0m\u001b[0mX\u001b[0m\u001b[1;33m)\u001b[0m\u001b[1;33m\u001b[0m\u001b[1;33m\u001b[0m\u001b[0m\n\u001b[0m\u001b[0;32m    463\u001b[0m         \u001b[1;32melse\u001b[0m\u001b[1;33m:\u001b[0m\u001b[1;33m\u001b[0m\u001b[1;33m\u001b[0m\u001b[0m\n\u001b[0;32m    464\u001b[0m             \u001b[1;31m# fit method of arity 2 (supervised transformation)\u001b[0m\u001b[1;33m\u001b[0m\u001b[1;33m\u001b[0m\u001b[1;33m\u001b[0m\u001b[0m\n",
      "\u001b[1;32m<ipython-input-23-a0b40c2741ed>\u001b[0m in \u001b[0;36mtransform\u001b[1;34m(self, X)\u001b[0m\n\u001b[0;32m     12\u001b[0m         \u001b[1;32mreturn\u001b[0m \u001b[0mself\u001b[0m\u001b[1;33m\u001b[0m\u001b[1;33m\u001b[0m\u001b[0m\n\u001b[0;32m     13\u001b[0m     \u001b[1;32mdef\u001b[0m \u001b[0mtransform\u001b[0m\u001b[1;33m(\u001b[0m\u001b[0mself\u001b[0m\u001b[1;33m,\u001b[0m \u001b[0mX\u001b[0m\u001b[1;33m)\u001b[0m\u001b[1;33m:\u001b[0m\u001b[1;33m\u001b[0m\u001b[1;33m\u001b[0m\u001b[0m\n\u001b[1;32m---> 14\u001b[1;33m         \u001b[1;32mreturn\u001b[0m \u001b[0mX\u001b[0m\u001b[1;33m.\u001b[0m\u001b[0mloc\u001b[0m\u001b[1;33m[\u001b[0m\u001b[1;33m:\u001b[0m\u001b[1;33m,\u001b[0m \u001b[0mself\u001b[0m\u001b[1;33m.\u001b[0m\u001b[0mfeature_indices_\u001b[0m\u001b[1;33m]\u001b[0m\u001b[1;33m\u001b[0m\u001b[1;33m\u001b[0m\u001b[0m\n\u001b[0m",
      "\u001b[1;32m~\\Anaconda3\\lib\\site-packages\\pandas\\core\\indexing.py\u001b[0m in \u001b[0;36m__getitem__\u001b[1;34m(self, key)\u001b[0m\n\u001b[0;32m   1470\u001b[0m             \u001b[1;32mexcept\u001b[0m \u001b[1;33m(\u001b[0m\u001b[0mKeyError\u001b[0m\u001b[1;33m,\u001b[0m \u001b[0mIndexError\u001b[0m\u001b[1;33m)\u001b[0m\u001b[1;33m:\u001b[0m\u001b[1;33m\u001b[0m\u001b[1;33m\u001b[0m\u001b[0m\n\u001b[0;32m   1471\u001b[0m                 \u001b[1;32mpass\u001b[0m\u001b[1;33m\u001b[0m\u001b[1;33m\u001b[0m\u001b[0m\n\u001b[1;32m-> 1472\u001b[1;33m             \u001b[1;32mreturn\u001b[0m \u001b[0mself\u001b[0m\u001b[1;33m.\u001b[0m\u001b[0m_getitem_tuple\u001b[0m\u001b[1;33m(\u001b[0m\u001b[0mkey\u001b[0m\u001b[1;33m)\u001b[0m\u001b[1;33m\u001b[0m\u001b[1;33m\u001b[0m\u001b[0m\n\u001b[0m\u001b[0;32m   1473\u001b[0m         \u001b[1;32melse\u001b[0m\u001b[1;33m:\u001b[0m\u001b[1;33m\u001b[0m\u001b[1;33m\u001b[0m\u001b[0m\n\u001b[0;32m   1474\u001b[0m             \u001b[1;31m# we by definition only have the 0th axis\u001b[0m\u001b[1;33m\u001b[0m\u001b[1;33m\u001b[0m\u001b[1;33m\u001b[0m\u001b[0m\n",
      "\u001b[1;32m~\\Anaconda3\\lib\\site-packages\\pandas\\core\\indexing.py\u001b[0m in \u001b[0;36m_getitem_tuple\u001b[1;34m(self, tup)\u001b[0m\n\u001b[0;32m    888\u001b[0m                 \u001b[1;32mcontinue\u001b[0m\u001b[1;33m\u001b[0m\u001b[1;33m\u001b[0m\u001b[0m\n\u001b[0;32m    889\u001b[0m \u001b[1;33m\u001b[0m\u001b[0m\n\u001b[1;32m--> 890\u001b[1;33m             \u001b[0mretval\u001b[0m \u001b[1;33m=\u001b[0m \u001b[0mgetattr\u001b[0m\u001b[1;33m(\u001b[0m\u001b[0mretval\u001b[0m\u001b[1;33m,\u001b[0m \u001b[0mself\u001b[0m\u001b[1;33m.\u001b[0m\u001b[0mname\u001b[0m\u001b[1;33m)\u001b[0m\u001b[1;33m.\u001b[0m\u001b[0m_getitem_axis\u001b[0m\u001b[1;33m(\u001b[0m\u001b[0mkey\u001b[0m\u001b[1;33m,\u001b[0m \u001b[0maxis\u001b[0m\u001b[1;33m=\u001b[0m\u001b[0mi\u001b[0m\u001b[1;33m)\u001b[0m\u001b[1;33m\u001b[0m\u001b[1;33m\u001b[0m\u001b[0m\n\u001b[0m\u001b[0;32m    891\u001b[0m \u001b[1;33m\u001b[0m\u001b[0m\n\u001b[0;32m    892\u001b[0m         \u001b[1;32mreturn\u001b[0m \u001b[0mretval\u001b[0m\u001b[1;33m\u001b[0m\u001b[1;33m\u001b[0m\u001b[0m\n",
      "\u001b[1;32m~\\Anaconda3\\lib\\site-packages\\pandas\\core\\indexing.py\u001b[0m in \u001b[0;36m_getitem_axis\u001b[1;34m(self, key, axis)\u001b[0m\n\u001b[0;32m   1899\u001b[0m                     \u001b[1;32mraise\u001b[0m \u001b[0mValueError\u001b[0m\u001b[1;33m(\u001b[0m\u001b[1;34m'Cannot index with multidimensional key'\u001b[0m\u001b[1;33m)\u001b[0m\u001b[1;33m\u001b[0m\u001b[1;33m\u001b[0m\u001b[0m\n\u001b[0;32m   1900\u001b[0m \u001b[1;33m\u001b[0m\u001b[0m\n\u001b[1;32m-> 1901\u001b[1;33m                 \u001b[1;32mreturn\u001b[0m \u001b[0mself\u001b[0m\u001b[1;33m.\u001b[0m\u001b[0m_getitem_iterable\u001b[0m\u001b[1;33m(\u001b[0m\u001b[0mkey\u001b[0m\u001b[1;33m,\u001b[0m \u001b[0maxis\u001b[0m\u001b[1;33m=\u001b[0m\u001b[0maxis\u001b[0m\u001b[1;33m)\u001b[0m\u001b[1;33m\u001b[0m\u001b[1;33m\u001b[0m\u001b[0m\n\u001b[0m\u001b[0;32m   1902\u001b[0m \u001b[1;33m\u001b[0m\u001b[0m\n\u001b[0;32m   1903\u001b[0m             \u001b[1;31m# nested tuple slicing\u001b[0m\u001b[1;33m\u001b[0m\u001b[1;33m\u001b[0m\u001b[1;33m\u001b[0m\u001b[0m\n",
      "\u001b[1;32m~\\Anaconda3\\lib\\site-packages\\pandas\\core\\indexing.py\u001b[0m in \u001b[0;36m_getitem_iterable\u001b[1;34m(self, key, axis)\u001b[0m\n\u001b[0;32m   1141\u001b[0m             \u001b[1;32mif\u001b[0m \u001b[0mlabels\u001b[0m\u001b[1;33m.\u001b[0m\u001b[0mis_unique\u001b[0m \u001b[1;32mand\u001b[0m \u001b[0mIndex\u001b[0m\u001b[1;33m(\u001b[0m\u001b[0mkeyarr\u001b[0m\u001b[1;33m)\u001b[0m\u001b[1;33m.\u001b[0m\u001b[0mis_unique\u001b[0m\u001b[1;33m:\u001b[0m\u001b[1;33m\u001b[0m\u001b[1;33m\u001b[0m\u001b[0m\n\u001b[0;32m   1142\u001b[0m                 \u001b[0mindexer\u001b[0m \u001b[1;33m=\u001b[0m \u001b[0max\u001b[0m\u001b[1;33m.\u001b[0m\u001b[0mget_indexer_for\u001b[0m\u001b[1;33m(\u001b[0m\u001b[0mkey\u001b[0m\u001b[1;33m)\u001b[0m\u001b[1;33m\u001b[0m\u001b[1;33m\u001b[0m\u001b[0m\n\u001b[1;32m-> 1143\u001b[1;33m                 \u001b[0mself\u001b[0m\u001b[1;33m.\u001b[0m\u001b[0m_validate_read_indexer\u001b[0m\u001b[1;33m(\u001b[0m\u001b[0mkey\u001b[0m\u001b[1;33m,\u001b[0m \u001b[0mindexer\u001b[0m\u001b[1;33m,\u001b[0m \u001b[0maxis\u001b[0m\u001b[1;33m)\u001b[0m\u001b[1;33m\u001b[0m\u001b[1;33m\u001b[0m\u001b[0m\n\u001b[0m\u001b[0;32m   1144\u001b[0m \u001b[1;33m\u001b[0m\u001b[0m\n\u001b[0;32m   1145\u001b[0m                 \u001b[0md\u001b[0m \u001b[1;33m=\u001b[0m \u001b[1;33m{\u001b[0m\u001b[0maxis\u001b[0m\u001b[1;33m:\u001b[0m \u001b[1;33m[\u001b[0m\u001b[0max\u001b[0m\u001b[1;33m.\u001b[0m\u001b[0mreindex\u001b[0m\u001b[1;33m(\u001b[0m\u001b[0mkeyarr\u001b[0m\u001b[1;33m)\u001b[0m\u001b[1;33m[\u001b[0m\u001b[1;36m0\u001b[0m\u001b[1;33m]\u001b[0m\u001b[1;33m,\u001b[0m \u001b[0mindexer\u001b[0m\u001b[1;33m]\u001b[0m\u001b[1;33m}\u001b[0m\u001b[1;33m\u001b[0m\u001b[1;33m\u001b[0m\u001b[0m\n",
      "\u001b[1;32m~\\Anaconda3\\lib\\site-packages\\pandas\\core\\indexing.py\u001b[0m in \u001b[0;36m_validate_read_indexer\u001b[1;34m(self, key, indexer, axis)\u001b[0m\n\u001b[0;32m   1204\u001b[0m                 raise KeyError(\n\u001b[0;32m   1205\u001b[0m                     u\"None of [{key}] are in the [{axis}]\".format(\n\u001b[1;32m-> 1206\u001b[1;33m                         key=key, axis=self.obj._get_axis_name(axis)))\n\u001b[0m\u001b[0;32m   1207\u001b[0m \u001b[1;33m\u001b[0m\u001b[0m\n\u001b[0;32m   1208\u001b[0m             \u001b[1;31m# we skip the warning on Categorical/Interval\u001b[0m\u001b[1;33m\u001b[0m\u001b[1;33m\u001b[0m\u001b[1;33m\u001b[0m\u001b[0m\n",
      "\u001b[1;31mKeyError\u001b[0m: 'None of [[ 2 10 11 12 15]] are in the [columns]'"
     ]
    }
   ],
   "source": [
    "feature_pipeline = Pipeline([\n",
    "    ('feature_selection', TopFeatureSelector(feature_importances, k))\n",
    "])\n",
    "\n",
    "train_set = feature_pipeline.fit_transform(train_set)"
   ]
  },
  {
   "cell_type": "code",
   "execution_count": null,
   "metadata": {},
   "outputs": [],
   "source": [
    "reg.fit(train_set, y_train)"
   ]
  },
  {
   "cell_type": "code",
   "execution_count": null,
   "metadata": {},
   "outputs": [],
   "source": [
    "submission = pd.DataFrame({\n",
    "        \"Id\": test_Id,\n",
    "        \"SalePrice\": reg.predict(test_set)\n",
    "    })\n",
    "submission.to_csv('submission.csv', index=False)"
   ]
  },
  {
   "cell_type": "code",
   "execution_count": null,
   "metadata": {},
   "outputs": [],
   "source": [
    "submission.shape"
   ]
  }
 ],
 "metadata": {
  "kernelspec": {
   "display_name": "Python 3",
   "language": "python",
   "name": "python3"
  },
  "language_info": {
   "codemirror_mode": {
    "name": "ipython",
    "version": 3
   },
   "file_extension": ".py",
   "mimetype": "text/x-python",
   "name": "python",
   "nbconvert_exporter": "python",
   "pygments_lexer": "ipython3",
   "version": "3.7.1"
  }
 },
 "nbformat": 4,
 "nbformat_minor": 2
}
